{
 "cells": [
  {
   "cell_type": "code",
   "execution_count": 121,
   "metadata": {},
   "outputs": [],
   "source": [
    "import pandas as pd\n",
    "import numpy as np\n",
    "import matplotlib.pyplot as plt"
   ]
  },
  {
   "cell_type": "code",
   "execution_count": 122,
   "metadata": {},
   "outputs": [
    {
     "data": {
      "text/html": [
       "<div>\n",
       "<style scoped>\n",
       "    .dataframe tbody tr th:only-of-type {\n",
       "        vertical-align: middle;\n",
       "    }\n",
       "\n",
       "    .dataframe tbody tr th {\n",
       "        vertical-align: top;\n",
       "    }\n",
       "\n",
       "    .dataframe thead th {\n",
       "        text-align: right;\n",
       "    }\n",
       "</style>\n",
       "<table border=\"1\" class=\"dataframe\">\n",
       "  <thead>\n",
       "    <tr style=\"text-align: right;\">\n",
       "      <th></th>\n",
       "      <th>checkin_acc</th>\n",
       "      <th>duration</th>\n",
       "      <th>credit_history</th>\n",
       "      <th>amount</th>\n",
       "      <th>savings_acc</th>\n",
       "      <th>present_emp_since</th>\n",
       "      <th>inst_rate</th>\n",
       "      <th>personal_status</th>\n",
       "      <th>residing_since</th>\n",
       "      <th>age</th>\n",
       "      <th>inst_plans</th>\n",
       "      <th>num_credits</th>\n",
       "      <th>job</th>\n",
       "      <th>status</th>\n",
       "    </tr>\n",
       "  </thead>\n",
       "  <tbody>\n",
       "    <tr>\n",
       "      <th>0</th>\n",
       "      <td>A11</td>\n",
       "      <td>6</td>\n",
       "      <td>A34</td>\n",
       "      <td>1169</td>\n",
       "      <td>A65</td>\n",
       "      <td>A75</td>\n",
       "      <td>4</td>\n",
       "      <td>A93</td>\n",
       "      <td>4</td>\n",
       "      <td>67</td>\n",
       "      <td>A143</td>\n",
       "      <td>2</td>\n",
       "      <td>A173</td>\n",
       "      <td>0</td>\n",
       "    </tr>\n",
       "    <tr>\n",
       "      <th>1</th>\n",
       "      <td>A12</td>\n",
       "      <td>48</td>\n",
       "      <td>A32</td>\n",
       "      <td>5951</td>\n",
       "      <td>A61</td>\n",
       "      <td>A73</td>\n",
       "      <td>2</td>\n",
       "      <td>A92</td>\n",
       "      <td>2</td>\n",
       "      <td>22</td>\n",
       "      <td>A143</td>\n",
       "      <td>1</td>\n",
       "      <td>A173</td>\n",
       "      <td>1</td>\n",
       "    </tr>\n",
       "    <tr>\n",
       "      <th>2</th>\n",
       "      <td>A14</td>\n",
       "      <td>12</td>\n",
       "      <td>A34</td>\n",
       "      <td>2096</td>\n",
       "      <td>A61</td>\n",
       "      <td>A74</td>\n",
       "      <td>2</td>\n",
       "      <td>A93</td>\n",
       "      <td>3</td>\n",
       "      <td>49</td>\n",
       "      <td>A143</td>\n",
       "      <td>1</td>\n",
       "      <td>A172</td>\n",
       "      <td>0</td>\n",
       "    </tr>\n",
       "  </tbody>\n",
       "</table>\n",
       "</div>"
      ],
      "text/plain": [
       "  checkin_acc  duration credit_history  amount savings_acc present_emp_since  \\\n",
       "0         A11         6            A34    1169         A65               A75   \n",
       "1         A12        48            A32    5951         A61               A73   \n",
       "2         A14        12            A34    2096         A61               A74   \n",
       "\n",
       "   inst_rate personal_status  residing_since  age inst_plans  num_credits  \\\n",
       "0          4             A93               4   67       A143            2   \n",
       "1          2             A92               2   22       A143            1   \n",
       "2          2             A93               3   49       A143            1   \n",
       "\n",
       "    job  status  \n",
       "0  A173       0  \n",
       "1  A173       1  \n",
       "2  A172       0  "
      ]
     },
     "execution_count": 122,
     "metadata": {},
     "output_type": "execute_result"
    }
   ],
   "source": [
    "credit_df=pd.read_csv(\"German Credit Data.csv\")\n",
    "credit_df.head(3)"
   ]
  },
  {
   "cell_type": "code",
   "execution_count": 123,
   "metadata": {},
   "outputs": [
    {
     "name": "stdout",
     "output_type": "stream",
     "text": [
      "<class 'pandas.core.frame.DataFrame'>\n",
      "RangeIndex: 1000 entries, 0 to 999\n",
      "Data columns (total 14 columns):\n",
      " #   Column             Non-Null Count  Dtype \n",
      "---  ------             --------------  ----- \n",
      " 0   checkin_acc        1000 non-null   object\n",
      " 1   duration           1000 non-null   int64 \n",
      " 2   credit_history     1000 non-null   object\n",
      " 3   amount             1000 non-null   int64 \n",
      " 4   savings_acc        1000 non-null   object\n",
      " 5   present_emp_since  1000 non-null   object\n",
      " 6   inst_rate          1000 non-null   int64 \n",
      " 7   personal_status    1000 non-null   object\n",
      " 8   residing_since     1000 non-null   int64 \n",
      " 9   age                1000 non-null   int64 \n",
      " 10  inst_plans         1000 non-null   object\n",
      " 11  num_credits        1000 non-null   int64 \n",
      " 12  job                1000 non-null   object\n",
      " 13  status             1000 non-null   int64 \n",
      "dtypes: int64(7), object(7)\n",
      "memory usage: 109.5+ KB\n"
     ]
    }
   ],
   "source": [
    "## lookinto the data set and columns\n",
    "\n",
    "credit_df.info()"
   ]
  },
  {
   "cell_type": "code",
   "execution_count": 124,
   "metadata": {},
   "outputs": [
    {
     "data": {
      "text/plain": [
       "0    700\n",
       "1    300\n",
       "Name: status, dtype: int64"
      ]
     },
     "execution_count": 124,
     "metadata": {},
     "output_type": "execute_result"
    }
   ],
   "source": [
    "## count the number of 0's and 1's\n",
    "credit_df['status'].value_counts()\n",
    " #or\n",
    "credit_df.status.value_counts()"
   ]
  },
  {
   "cell_type": "code",
   "execution_count": 125,
   "metadata": {},
   "outputs": [
    {
     "data": {
      "text/plain": [
       "checkin_acc          0\n",
       "duration             0\n",
       "credit_history       0\n",
       "amount               0\n",
       "savings_acc          0\n",
       "present_emp_since    0\n",
       "inst_rate            0\n",
       "personal_status      0\n",
       "residing_since       0\n",
       "age                  0\n",
       "inst_plans           0\n",
       "num_credits          0\n",
       "job                  0\n",
       "status               0\n",
       "dtype: int64"
      ]
     },
     "execution_count": 125,
     "metadata": {},
     "output_type": "execute_result"
    }
   ],
   "source": [
    "# check for the missing values\n",
    "credit_df.isna().sum()\n",
    "\n",
    "## there are no missing values"
   ]
  },
  {
   "cell_type": "code",
   "execution_count": 126,
   "metadata": {},
   "outputs": [
    {
     "data": {
      "text/plain": [
       "['checkin_acc',\n",
       " 'duration',\n",
       " 'credit_history',\n",
       " 'amount',\n",
       " 'savings_acc',\n",
       " 'present_emp_since',\n",
       " 'inst_rate',\n",
       " 'personal_status',\n",
       " 'residing_since',\n",
       " 'age',\n",
       " 'inst_plans',\n",
       " 'num_credits',\n",
       " 'job']"
      ]
     },
     "execution_count": 126,
     "metadata": {},
     "output_type": "execute_result"
    }
   ],
   "source": [
    "### adding all features in to x varaible\n",
    "X_features=list(credit_df.columns)\n",
    "X_features.remove(\"status\")\n",
    "X_features"
   ]
  },
  {
   "cell_type": "code",
   "execution_count": 127,
   "metadata": {},
   "outputs": [],
   "source": [
    "## one hot encoding to convert all object data using dummies\n",
    "encoded_credit_features=pd.get_dummies(credit_df[X_features],drop_first=True)"
   ]
  },
  {
   "cell_type": "code",
   "execution_count": 128,
   "metadata": {},
   "outputs": [
    {
     "data": {
      "text/html": [
       "<div>\n",
       "<style scoped>\n",
       "    .dataframe tbody tr th:only-of-type {\n",
       "        vertical-align: middle;\n",
       "    }\n",
       "\n",
       "    .dataframe tbody tr th {\n",
       "        vertical-align: top;\n",
       "    }\n",
       "\n",
       "    .dataframe thead th {\n",
       "        text-align: right;\n",
       "    }\n",
       "</style>\n",
       "<table border=\"1\" class=\"dataframe\">\n",
       "  <thead>\n",
       "    <tr style=\"text-align: right;\">\n",
       "      <th></th>\n",
       "      <th>duration</th>\n",
       "      <th>amount</th>\n",
       "      <th>inst_rate</th>\n",
       "      <th>residing_since</th>\n",
       "      <th>age</th>\n",
       "      <th>num_credits</th>\n",
       "      <th>checkin_acc_A12</th>\n",
       "      <th>checkin_acc_A13</th>\n",
       "      <th>checkin_acc_A14</th>\n",
       "      <th>credit_history_A31</th>\n",
       "      <th>...</th>\n",
       "      <th>present_emp_since_A74</th>\n",
       "      <th>present_emp_since_A75</th>\n",
       "      <th>personal_status_A92</th>\n",
       "      <th>personal_status_A93</th>\n",
       "      <th>personal_status_A94</th>\n",
       "      <th>inst_plans_A142</th>\n",
       "      <th>inst_plans_A143</th>\n",
       "      <th>job_A172</th>\n",
       "      <th>job_A173</th>\n",
       "      <th>job_A174</th>\n",
       "    </tr>\n",
       "  </thead>\n",
       "  <tbody>\n",
       "    <tr>\n",
       "      <th>0</th>\n",
       "      <td>6</td>\n",
       "      <td>1169</td>\n",
       "      <td>4</td>\n",
       "      <td>4</td>\n",
       "      <td>67</td>\n",
       "      <td>2</td>\n",
       "      <td>0</td>\n",
       "      <td>0</td>\n",
       "      <td>0</td>\n",
       "      <td>0</td>\n",
       "      <td>...</td>\n",
       "      <td>0</td>\n",
       "      <td>1</td>\n",
       "      <td>0</td>\n",
       "      <td>1</td>\n",
       "      <td>0</td>\n",
       "      <td>0</td>\n",
       "      <td>1</td>\n",
       "      <td>0</td>\n",
       "      <td>1</td>\n",
       "      <td>0</td>\n",
       "    </tr>\n",
       "    <tr>\n",
       "      <th>1</th>\n",
       "      <td>48</td>\n",
       "      <td>5951</td>\n",
       "      <td>2</td>\n",
       "      <td>2</td>\n",
       "      <td>22</td>\n",
       "      <td>1</td>\n",
       "      <td>1</td>\n",
       "      <td>0</td>\n",
       "      <td>0</td>\n",
       "      <td>0</td>\n",
       "      <td>...</td>\n",
       "      <td>0</td>\n",
       "      <td>0</td>\n",
       "      <td>1</td>\n",
       "      <td>0</td>\n",
       "      <td>0</td>\n",
       "      <td>0</td>\n",
       "      <td>1</td>\n",
       "      <td>0</td>\n",
       "      <td>1</td>\n",
       "      <td>0</td>\n",
       "    </tr>\n",
       "    <tr>\n",
       "      <th>2</th>\n",
       "      <td>12</td>\n",
       "      <td>2096</td>\n",
       "      <td>2</td>\n",
       "      <td>3</td>\n",
       "      <td>49</td>\n",
       "      <td>1</td>\n",
       "      <td>0</td>\n",
       "      <td>0</td>\n",
       "      <td>1</td>\n",
       "      <td>0</td>\n",
       "      <td>...</td>\n",
       "      <td>1</td>\n",
       "      <td>0</td>\n",
       "      <td>0</td>\n",
       "      <td>1</td>\n",
       "      <td>0</td>\n",
       "      <td>0</td>\n",
       "      <td>1</td>\n",
       "      <td>1</td>\n",
       "      <td>0</td>\n",
       "      <td>0</td>\n",
       "    </tr>\n",
       "    <tr>\n",
       "      <th>3</th>\n",
       "      <td>42</td>\n",
       "      <td>7882</td>\n",
       "      <td>2</td>\n",
       "      <td>4</td>\n",
       "      <td>45</td>\n",
       "      <td>1</td>\n",
       "      <td>0</td>\n",
       "      <td>0</td>\n",
       "      <td>0</td>\n",
       "      <td>0</td>\n",
       "      <td>...</td>\n",
       "      <td>1</td>\n",
       "      <td>0</td>\n",
       "      <td>0</td>\n",
       "      <td>1</td>\n",
       "      <td>0</td>\n",
       "      <td>0</td>\n",
       "      <td>1</td>\n",
       "      <td>0</td>\n",
       "      <td>1</td>\n",
       "      <td>0</td>\n",
       "    </tr>\n",
       "    <tr>\n",
       "      <th>4</th>\n",
       "      <td>24</td>\n",
       "      <td>4870</td>\n",
       "      <td>3</td>\n",
       "      <td>4</td>\n",
       "      <td>53</td>\n",
       "      <td>2</td>\n",
       "      <td>0</td>\n",
       "      <td>0</td>\n",
       "      <td>0</td>\n",
       "      <td>0</td>\n",
       "      <td>...</td>\n",
       "      <td>0</td>\n",
       "      <td>0</td>\n",
       "      <td>0</td>\n",
       "      <td>1</td>\n",
       "      <td>0</td>\n",
       "      <td>0</td>\n",
       "      <td>1</td>\n",
       "      <td>0</td>\n",
       "      <td>1</td>\n",
       "      <td>0</td>\n",
       "    </tr>\n",
       "    <tr>\n",
       "      <th>...</th>\n",
       "      <td>...</td>\n",
       "      <td>...</td>\n",
       "      <td>...</td>\n",
       "      <td>...</td>\n",
       "      <td>...</td>\n",
       "      <td>...</td>\n",
       "      <td>...</td>\n",
       "      <td>...</td>\n",
       "      <td>...</td>\n",
       "      <td>...</td>\n",
       "      <td>...</td>\n",
       "      <td>...</td>\n",
       "      <td>...</td>\n",
       "      <td>...</td>\n",
       "      <td>...</td>\n",
       "      <td>...</td>\n",
       "      <td>...</td>\n",
       "      <td>...</td>\n",
       "      <td>...</td>\n",
       "      <td>...</td>\n",
       "      <td>...</td>\n",
       "    </tr>\n",
       "    <tr>\n",
       "      <th>995</th>\n",
       "      <td>12</td>\n",
       "      <td>1736</td>\n",
       "      <td>3</td>\n",
       "      <td>4</td>\n",
       "      <td>31</td>\n",
       "      <td>1</td>\n",
       "      <td>0</td>\n",
       "      <td>0</td>\n",
       "      <td>1</td>\n",
       "      <td>0</td>\n",
       "      <td>...</td>\n",
       "      <td>1</td>\n",
       "      <td>0</td>\n",
       "      <td>1</td>\n",
       "      <td>0</td>\n",
       "      <td>0</td>\n",
       "      <td>0</td>\n",
       "      <td>1</td>\n",
       "      <td>1</td>\n",
       "      <td>0</td>\n",
       "      <td>0</td>\n",
       "    </tr>\n",
       "    <tr>\n",
       "      <th>996</th>\n",
       "      <td>30</td>\n",
       "      <td>3857</td>\n",
       "      <td>4</td>\n",
       "      <td>4</td>\n",
       "      <td>40</td>\n",
       "      <td>1</td>\n",
       "      <td>0</td>\n",
       "      <td>0</td>\n",
       "      <td>0</td>\n",
       "      <td>0</td>\n",
       "      <td>...</td>\n",
       "      <td>0</td>\n",
       "      <td>0</td>\n",
       "      <td>0</td>\n",
       "      <td>0</td>\n",
       "      <td>0</td>\n",
       "      <td>0</td>\n",
       "      <td>1</td>\n",
       "      <td>0</td>\n",
       "      <td>0</td>\n",
       "      <td>1</td>\n",
       "    </tr>\n",
       "    <tr>\n",
       "      <th>997</th>\n",
       "      <td>12</td>\n",
       "      <td>804</td>\n",
       "      <td>4</td>\n",
       "      <td>4</td>\n",
       "      <td>38</td>\n",
       "      <td>1</td>\n",
       "      <td>0</td>\n",
       "      <td>0</td>\n",
       "      <td>1</td>\n",
       "      <td>0</td>\n",
       "      <td>...</td>\n",
       "      <td>0</td>\n",
       "      <td>1</td>\n",
       "      <td>0</td>\n",
       "      <td>1</td>\n",
       "      <td>0</td>\n",
       "      <td>0</td>\n",
       "      <td>1</td>\n",
       "      <td>0</td>\n",
       "      <td>1</td>\n",
       "      <td>0</td>\n",
       "    </tr>\n",
       "    <tr>\n",
       "      <th>998</th>\n",
       "      <td>45</td>\n",
       "      <td>1845</td>\n",
       "      <td>4</td>\n",
       "      <td>4</td>\n",
       "      <td>23</td>\n",
       "      <td>1</td>\n",
       "      <td>0</td>\n",
       "      <td>0</td>\n",
       "      <td>0</td>\n",
       "      <td>0</td>\n",
       "      <td>...</td>\n",
       "      <td>0</td>\n",
       "      <td>0</td>\n",
       "      <td>0</td>\n",
       "      <td>1</td>\n",
       "      <td>0</td>\n",
       "      <td>0</td>\n",
       "      <td>1</td>\n",
       "      <td>0</td>\n",
       "      <td>1</td>\n",
       "      <td>0</td>\n",
       "    </tr>\n",
       "    <tr>\n",
       "      <th>999</th>\n",
       "      <td>45</td>\n",
       "      <td>4576</td>\n",
       "      <td>3</td>\n",
       "      <td>4</td>\n",
       "      <td>27</td>\n",
       "      <td>1</td>\n",
       "      <td>1</td>\n",
       "      <td>0</td>\n",
       "      <td>0</td>\n",
       "      <td>0</td>\n",
       "      <td>...</td>\n",
       "      <td>0</td>\n",
       "      <td>0</td>\n",
       "      <td>0</td>\n",
       "      <td>1</td>\n",
       "      <td>0</td>\n",
       "      <td>0</td>\n",
       "      <td>1</td>\n",
       "      <td>0</td>\n",
       "      <td>1</td>\n",
       "      <td>0</td>\n",
       "    </tr>\n",
       "  </tbody>\n",
       "</table>\n",
       "<p>1000 rows × 29 columns</p>\n",
       "</div>"
      ],
      "text/plain": [
       "     duration  amount  inst_rate  residing_since  age  num_credits  \\\n",
       "0           6    1169          4               4   67            2   \n",
       "1          48    5951          2               2   22            1   \n",
       "2          12    2096          2               3   49            1   \n",
       "3          42    7882          2               4   45            1   \n",
       "4          24    4870          3               4   53            2   \n",
       "..        ...     ...        ...             ...  ...          ...   \n",
       "995        12    1736          3               4   31            1   \n",
       "996        30    3857          4               4   40            1   \n",
       "997        12     804          4               4   38            1   \n",
       "998        45    1845          4               4   23            1   \n",
       "999        45    4576          3               4   27            1   \n",
       "\n",
       "     checkin_acc_A12  checkin_acc_A13  checkin_acc_A14  credit_history_A31  \\\n",
       "0                  0                0                0                   0   \n",
       "1                  1                0                0                   0   \n",
       "2                  0                0                1                   0   \n",
       "3                  0                0                0                   0   \n",
       "4                  0                0                0                   0   \n",
       "..               ...              ...              ...                 ...   \n",
       "995                0                0                1                   0   \n",
       "996                0                0                0                   0   \n",
       "997                0                0                1                   0   \n",
       "998                0                0                0                   0   \n",
       "999                1                0                0                   0   \n",
       "\n",
       "     ...  present_emp_since_A74  present_emp_since_A75  personal_status_A92  \\\n",
       "0    ...                      0                      1                    0   \n",
       "1    ...                      0                      0                    1   \n",
       "2    ...                      1                      0                    0   \n",
       "3    ...                      1                      0                    0   \n",
       "4    ...                      0                      0                    0   \n",
       "..   ...                    ...                    ...                  ...   \n",
       "995  ...                      1                      0                    1   \n",
       "996  ...                      0                      0                    0   \n",
       "997  ...                      0                      1                    0   \n",
       "998  ...                      0                      0                    0   \n",
       "999  ...                      0                      0                    0   \n",
       "\n",
       "     personal_status_A93  personal_status_A94  inst_plans_A142  \\\n",
       "0                      1                    0                0   \n",
       "1                      0                    0                0   \n",
       "2                      1                    0                0   \n",
       "3                      1                    0                0   \n",
       "4                      1                    0                0   \n",
       "..                   ...                  ...              ...   \n",
       "995                    0                    0                0   \n",
       "996                    0                    0                0   \n",
       "997                    1                    0                0   \n",
       "998                    1                    0                0   \n",
       "999                    1                    0                0   \n",
       "\n",
       "     inst_plans_A143  job_A172  job_A173  job_A174  \n",
       "0                  1         0         1         0  \n",
       "1                  1         0         1         0  \n",
       "2                  1         1         0         0  \n",
       "3                  1         0         1         0  \n",
       "4                  1         0         1         0  \n",
       "..               ...       ...       ...       ...  \n",
       "995                1         1         0         0  \n",
       "996                1         0         0         1  \n",
       "997                1         0         1         0  \n",
       "998                1         0         1         0  \n",
       "999                1         0         1         0  \n",
       "\n",
       "[1000 rows x 29 columns]"
      ]
     },
     "execution_count": 128,
     "metadata": {},
     "output_type": "execute_result"
    }
   ],
   "source": [
    "encoded_credit_features"
   ]
  },
  {
   "cell_type": "code",
   "execution_count": 129,
   "metadata": {},
   "outputs": [
    {
     "data": {
      "text/plain": [
       "['duration',\n",
       " 'amount',\n",
       " 'inst_rate',\n",
       " 'residing_since',\n",
       " 'age',\n",
       " 'num_credits',\n",
       " 'checkin_acc_A12',\n",
       " 'checkin_acc_A13',\n",
       " 'checkin_acc_A14',\n",
       " 'credit_history_A31',\n",
       " 'credit_history_A32',\n",
       " 'credit_history_A33',\n",
       " 'credit_history_A34',\n",
       " 'savings_acc_A62',\n",
       " 'savings_acc_A63',\n",
       " 'savings_acc_A64',\n",
       " 'savings_acc_A65',\n",
       " 'present_emp_since_A72',\n",
       " 'present_emp_since_A73',\n",
       " 'present_emp_since_A74',\n",
       " 'present_emp_since_A75',\n",
       " 'personal_status_A92',\n",
       " 'personal_status_A93',\n",
       " 'personal_status_A94',\n",
       " 'inst_plans_A142',\n",
       " 'inst_plans_A143',\n",
       " 'job_A172',\n",
       " 'job_A173',\n",
       " 'job_A174']"
      ]
     },
     "execution_count": 129,
     "metadata": {},
     "output_type": "execute_result"
    }
   ],
   "source": [
    "# display all columns\n",
    "list(encoded_credit_features.columns)"
   ]
  },
  {
   "cell_type": "code",
   "execution_count": 130,
   "metadata": {},
   "outputs": [],
   "source": [
    "# importing the stats model sm\n",
    "\n",
    "import statsmodels.api as sm\n",
    "\n",
    "Y=credit_df.status\n",
    "X=sm.add_constant(encoded_credit_features)"
   ]
  },
  {
   "cell_type": "code",
   "execution_count": 131,
   "metadata": {},
   "outputs": [],
   "source": [
    "## Spliting the training and testing sets\n",
    "from sklearn.model_selection import train_test_split\n",
    "\n",
    "X_train,X_test,y_train,y_test=train_test_split(X,Y,\n",
    "                                               test_size=0.3,random_state=42)"
   ]
  },
  {
   "cell_type": "markdown",
   "metadata": {},
   "source": [
    "## Building a logistic regression model"
   ]
  },
  {
   "cell_type": "code",
   "execution_count": 132,
   "metadata": {},
   "outputs": [],
   "source": [
    "logit=sm.GLM(y_train,X_train)\n",
    "logit_model=logit.fit()\n"
   ]
  },
  {
   "cell_type": "code",
   "execution_count": 133,
   "metadata": {},
   "outputs": [
    {
     "data": {
      "text/html": [
       "<table class=\"simpletable\">\n",
       "<tr>\n",
       "        <td>Model:</td>               <td>GLM</td>            <td>AIC:</td>        <td>781.0583</td> \n",
       "</tr>\n",
       "<tr>\n",
       "    <td>Link Function:</td>        <td>identity</td>          <td>BIC:</td>       <td>-4274.4129</td>\n",
       "</tr>\n",
       "<tr>\n",
       "  <td>Dependent Variable:</td>      <td>status</td>      <td>Log-Likelihood:</td>   <td>-360.53</td> \n",
       "</tr>\n",
       "<tr>\n",
       "         <td>Date:</td>        <td>2022-06-14 08:56</td>    <td>LL-Null:</td>       <td>-453.61</td> \n",
       "</tr>\n",
       "<tr>\n",
       "   <td>No. Observations:</td>         <td>700</td>          <td>Deviance:</td>      <td>114.81</td>  \n",
       "</tr>\n",
       "<tr>\n",
       "       <td>Df Model:</td>             <td>29</td>         <td>Pearson chi2:</td>     <td>115.</td>   \n",
       "</tr>\n",
       "<tr>\n",
       "     <td>Df Residuals:</td>           <td>670</td>           <td>Scale:</td>        <td>0.17136</td> \n",
       "</tr>\n",
       "<tr>\n",
       "        <td>Method:</td>             <td>IRLS</td>              <td></td>              <td></td>     \n",
       "</tr>\n",
       "</table>\n",
       "<table class=\"simpletable\">\n",
       "<tr>\n",
       "            <td></td>             <th>Coef.</th>  <th>Std.Err.</th>    <th>z</th>     <th>P>|z|</th> <th>[0.025</th>  <th>0.975]</th> \n",
       "</tr>\n",
       "<tr>\n",
       "  <th>const</th>                 <td>0.5135</td>   <td>0.1957</td>  <td>2.6241</td>  <td>0.0087</td> <td>0.1300</td>  <td>0.8971</td> \n",
       "</tr>\n",
       "<tr>\n",
       "  <th>duration</th>              <td>0.0035</td>   <td>0.0018</td>  <td>1.9000</td>  <td>0.0574</td> <td>-0.0001</td> <td>0.0071</td> \n",
       "</tr>\n",
       "<tr>\n",
       "  <th>amount</th>                <td>0.0000</td>   <td>0.0000</td>  <td>2.4510</td>  <td>0.0142</td> <td>0.0000</td>  <td>0.0000</td> \n",
       "</tr>\n",
       "<tr>\n",
       "  <th>inst_rate</th>             <td>0.0488</td>   <td>0.0162</td>  <td>3.0117</td>  <td>0.0026</td> <td>0.0170</td>  <td>0.0805</td> \n",
       "</tr>\n",
       "<tr>\n",
       "  <th>residing_since</th>        <td>0.0148</td>   <td>0.0156</td>  <td>0.9440</td>  <td>0.3452</td> <td>-0.0159</td> <td>0.0454</td> \n",
       "</tr>\n",
       "<tr>\n",
       "  <th>age</th>                   <td>-0.0034</td>  <td>0.0016</td>  <td>-2.0968</td> <td>0.0360</td> <td>-0.0066</td> <td>-0.0002</td>\n",
       "</tr>\n",
       "<tr>\n",
       "  <th>num_credits</th>           <td>0.0465</td>   <td>0.0336</td>  <td>1.3830</td>  <td>0.1667</td> <td>-0.0194</td> <td>0.1125</td> \n",
       "</tr>\n",
       "<tr>\n",
       "  <th>checkin_acc_A12</th>       <td>-0.0991</td>  <td>0.0443</td>  <td>-2.2343</td> <td>0.0255</td> <td>-0.1860</td> <td>-0.0122</td>\n",
       "</tr>\n",
       "<tr>\n",
       "  <th>checkin_acc_A13</th>       <td>-0.1845</td>  <td>0.0715</td>  <td>-2.5822</td> <td>0.0098</td> <td>-0.3246</td> <td>-0.0445</td>\n",
       "</tr>\n",
       "<tr>\n",
       "  <th>checkin_acc_A14</th>       <td>-0.2740</td>  <td>0.0422</td>  <td>-6.5000</td> <td>0.0000</td> <td>-0.3567</td> <td>-0.1914</td>\n",
       "</tr>\n",
       "<tr>\n",
       "  <th>credit_history_A31</th>    <td>0.0018</td>   <td>0.1063</td>  <td>0.0168</td>  <td>0.9866</td> <td>-0.2065</td> <td>0.2101</td> \n",
       "</tr>\n",
       "<tr>\n",
       "  <th>credit_history_A32</th>    <td>-0.1437</td>  <td>0.0803</td>  <td>-1.7891</td> <td>0.0736</td> <td>-0.3011</td> <td>0.0137</td> \n",
       "</tr>\n",
       "<tr>\n",
       "  <th>credit_history_A33</th>    <td>-0.2200</td>  <td>0.0908</td>  <td>-2.4225</td> <td>0.0154</td> <td>-0.3980</td> <td>-0.0420</td>\n",
       "</tr>\n",
       "<tr>\n",
       "  <th>credit_history_A34</th>    <td>-0.2759</td>  <td>0.0810</td>  <td>-3.4075</td> <td>0.0007</td> <td>-0.4345</td> <td>-0.1172</td>\n",
       "</tr>\n",
       "<tr>\n",
       "  <th>savings_acc_A62</th>       <td>-0.0024</td>  <td>0.0551</td>  <td>-0.0430</td> <td>0.9657</td> <td>-0.1103</td> <td>0.1056</td> \n",
       "</tr>\n",
       "<tr>\n",
       "  <th>savings_acc_A63</th>       <td>-0.0913</td>  <td>0.0657</td>  <td>-1.3906</td> <td>0.1643</td> <td>-0.2200</td> <td>0.0374</td> \n",
       "</tr>\n",
       "<tr>\n",
       "  <th>savings_acc_A64</th>       <td>-0.1283</td>  <td>0.0749</td>  <td>-1.7130</td> <td>0.0867</td> <td>-0.2750</td> <td>0.0185</td> \n",
       "</tr>\n",
       "<tr>\n",
       "  <th>savings_acc_A65</th>       <td>-0.0874</td>  <td>0.0432</td>  <td>-2.0242</td> <td>0.0429</td> <td>-0.1721</td> <td>-0.0028</td>\n",
       "</tr>\n",
       "<tr>\n",
       "  <th>present_emp_since_A72</th> <td>0.0116</td>   <td>0.0833</td>  <td>0.1395</td>  <td>0.8890</td> <td>-0.1516</td> <td>0.1748</td> \n",
       "</tr>\n",
       "<tr>\n",
       "  <th>present_emp_since_A73</th> <td>-0.0095</td>  <td>0.0784</td>  <td>-0.1213</td> <td>0.9035</td> <td>-0.1632</td> <td>0.1442</td> \n",
       "</tr>\n",
       "<tr>\n",
       "  <th>present_emp_since_A74</th> <td>-0.0669</td>  <td>0.0827</td>  <td>-0.8091</td> <td>0.4185</td> <td>-0.2289</td> <td>0.0951</td> \n",
       "</tr>\n",
       "<tr>\n",
       "  <th>present_emp_since_A75</th> <td>-0.0463</td>  <td>0.0789</td>  <td>-0.5859</td> <td>0.5579</td> <td>-0.2010</td> <td>0.1085</td> \n",
       "</tr>\n",
       "<tr>\n",
       "  <th>personal_status_A92</th>   <td>0.0051</td>   <td>0.0836</td>  <td>0.0612</td>  <td>0.9512</td> <td>-0.1587</td> <td>0.1690</td> \n",
       "</tr>\n",
       "<tr>\n",
       "  <th>personal_status_A93</th>   <td>-0.0714</td>  <td>0.0820</td>  <td>-0.8712</td> <td>0.3836</td> <td>-0.2321</td> <td>0.0893</td> \n",
       "</tr>\n",
       "<tr>\n",
       "  <th>personal_status_A94</th>   <td>-0.0507</td>  <td>0.0957</td>  <td>-0.5304</td> <td>0.5958</td> <td>-0.2382</td> <td>0.1367</td> \n",
       "</tr>\n",
       "<tr>\n",
       "  <th>inst_plans_A142</th>       <td>-0.0596</td>  <td>0.0922</td>  <td>-0.6472</td> <td>0.5175</td> <td>-0.2403</td> <td>0.1210</td> \n",
       "</tr>\n",
       "<tr>\n",
       "  <th>inst_plans_A143</th>       <td>-0.0678</td>  <td>0.0476</td>  <td>-1.4225</td> <td>0.1549</td> <td>-0.1612</td> <td>0.0256</td> \n",
       "</tr>\n",
       "<tr>\n",
       "  <th>job_A172</th>              <td>-0.0160</td>  <td>0.1288</td>  <td>-0.1242</td> <td>0.9011</td> <td>-0.2685</td> <td>0.2365</td> \n",
       "</tr>\n",
       "<tr>\n",
       "  <th>job_A173</th>              <td>-0.0093</td>  <td>0.1248</td>  <td>-0.0747</td> <td>0.9404</td> <td>-0.2539</td> <td>0.2352</td> \n",
       "</tr>\n",
       "<tr>\n",
       "  <th>job_A174</th>              <td>-0.0199</td>  <td>0.1251</td>  <td>-0.1587</td> <td>0.8739</td> <td>-0.2651</td> <td>0.2254</td> \n",
       "</tr>\n",
       "</table>"
      ],
      "text/plain": [
       "<class 'statsmodels.iolib.summary2.Summary'>\n",
       "\"\"\"\n",
       "                  Results: Generalized linear model\n",
       "=====================================================================\n",
       "Model:                GLM                AIC:              781.0583  \n",
       "Link Function:        identity           BIC:              -4274.4129\n",
       "Dependent Variable:   status             Log-Likelihood:   -360.53   \n",
       "Date:                 2022-06-14 08:56   LL-Null:          -453.61   \n",
       "No. Observations:     700                Deviance:         114.81    \n",
       "Df Model:             29                 Pearson chi2:     115.      \n",
       "Df Residuals:         670                Scale:            0.17136   \n",
       "Method:               IRLS                                           \n",
       "---------------------------------------------------------------------\n",
       "                       Coef.  Std.Err.    z    P>|z|   [0.025  0.975]\n",
       "---------------------------------------------------------------------\n",
       "const                  0.5135   0.1957  2.6241 0.0087  0.1300  0.8971\n",
       "duration               0.0035   0.0018  1.9000 0.0574 -0.0001  0.0071\n",
       "amount                 0.0000   0.0000  2.4510 0.0142  0.0000  0.0000\n",
       "inst_rate              0.0488   0.0162  3.0117 0.0026  0.0170  0.0805\n",
       "residing_since         0.0148   0.0156  0.9440 0.3452 -0.0159  0.0454\n",
       "age                   -0.0034   0.0016 -2.0968 0.0360 -0.0066 -0.0002\n",
       "num_credits            0.0465   0.0336  1.3830 0.1667 -0.0194  0.1125\n",
       "checkin_acc_A12       -0.0991   0.0443 -2.2343 0.0255 -0.1860 -0.0122\n",
       "checkin_acc_A13       -0.1845   0.0715 -2.5822 0.0098 -0.3246 -0.0445\n",
       "checkin_acc_A14       -0.2740   0.0422 -6.5000 0.0000 -0.3567 -0.1914\n",
       "credit_history_A31     0.0018   0.1063  0.0168 0.9866 -0.2065  0.2101\n",
       "credit_history_A32    -0.1437   0.0803 -1.7891 0.0736 -0.3011  0.0137\n",
       "credit_history_A33    -0.2200   0.0908 -2.4225 0.0154 -0.3980 -0.0420\n",
       "credit_history_A34    -0.2759   0.0810 -3.4075 0.0007 -0.4345 -0.1172\n",
       "savings_acc_A62       -0.0024   0.0551 -0.0430 0.9657 -0.1103  0.1056\n",
       "savings_acc_A63       -0.0913   0.0657 -1.3906 0.1643 -0.2200  0.0374\n",
       "savings_acc_A64       -0.1283   0.0749 -1.7130 0.0867 -0.2750  0.0185\n",
       "savings_acc_A65       -0.0874   0.0432 -2.0242 0.0429 -0.1721 -0.0028\n",
       "present_emp_since_A72  0.0116   0.0833  0.1395 0.8890 -0.1516  0.1748\n",
       "present_emp_since_A73 -0.0095   0.0784 -0.1213 0.9035 -0.1632  0.1442\n",
       "present_emp_since_A74 -0.0669   0.0827 -0.8091 0.4185 -0.2289  0.0951\n",
       "present_emp_since_A75 -0.0463   0.0789 -0.5859 0.5579 -0.2010  0.1085\n",
       "personal_status_A92    0.0051   0.0836  0.0612 0.9512 -0.1587  0.1690\n",
       "personal_status_A93   -0.0714   0.0820 -0.8712 0.3836 -0.2321  0.0893\n",
       "personal_status_A94   -0.0507   0.0957 -0.5304 0.5958 -0.2382  0.1367\n",
       "inst_plans_A142       -0.0596   0.0922 -0.6472 0.5175 -0.2403  0.1210\n",
       "inst_plans_A143       -0.0678   0.0476 -1.4225 0.1549 -0.1612  0.0256\n",
       "job_A172              -0.0160   0.1288 -0.1242 0.9011 -0.2685  0.2365\n",
       "job_A173              -0.0093   0.1248 -0.0747 0.9404 -0.2539  0.2352\n",
       "job_A174              -0.0199   0.1251 -0.1587 0.8739 -0.2651  0.2254\n",
       "=====================================================================\n",
       "\n",
       "\"\"\""
      ]
     },
     "execution_count": 133,
     "metadata": {},
     "output_type": "execute_result"
    }
   ],
   "source": [
    "# printing the summary of the data\n",
    "logit_model.summary2()"
   ]
  },
  {
   "cell_type": "markdown",
   "metadata": {},
   "source": [
    "# Model dignostics"
   ]
  },
  {
   "cell_type": "code",
   "execution_count": 134,
   "metadata": {},
   "outputs": [
    {
     "name": "stdout",
     "output_type": "stream",
     "text": [
      "const                    False\n",
      "duration                  True\n",
      "amount                   False\n",
      "inst_rate                False\n",
      "residing_since            True\n",
      "age                      False\n",
      "num_credits               True\n",
      "checkin_acc_A12          False\n",
      "checkin_acc_A13          False\n",
      "checkin_acc_A14          False\n",
      "credit_history_A31        True\n",
      "credit_history_A32        True\n",
      "credit_history_A33       False\n",
      "credit_history_A34       False\n",
      "savings_acc_A62           True\n",
      "savings_acc_A63           True\n",
      "savings_acc_A64           True\n",
      "savings_acc_A65          False\n",
      "present_emp_since_A72     True\n",
      "present_emp_since_A73     True\n",
      "present_emp_since_A74     True\n",
      "present_emp_since_A75     True\n",
      "personal_status_A92       True\n",
      "personal_status_A93       True\n",
      "personal_status_A94       True\n",
      "inst_plans_A142           True\n",
      "inst_plans_A143           True\n",
      "job_A172                  True\n",
      "job_A173                  True\n",
      "job_A174                  True\n",
      "dtype: bool\n"
     ]
    }
   ],
   "source": [
    "p_values=logit_model.pvalues\n",
    "print(p_values>0.05)"
   ]
  },
  {
   "cell_type": "code",
   "execution_count": 138,
   "metadata": {},
   "outputs": [],
   "source": [
    "# Get the p values\n",
    "def get_significant_vars( lm ):\n",
    "    var_p_vals_df = pd.DataFrame( lm.pvalues )\n",
    "    var_p_vals_df['vars'] = var_p_vals_df.index\n",
    "    var_p_vals_df.columns = ['pvals', 'vars']\n",
    "    return list( var_p_vals_df[var_p_vals_df.pvals <= 0.05]['vars'] )"
   ]
  },
  {
   "cell_type": "code",
   "execution_count": 139,
   "metadata": {},
   "outputs": [
    {
     "data": {
      "text/plain": [
       "['const',\n",
       " 'amount',\n",
       " 'inst_rate',\n",
       " 'age',\n",
       " 'checkin_acc_A12',\n",
       " 'checkin_acc_A13',\n",
       " 'checkin_acc_A14',\n",
       " 'credit_history_A33',\n",
       " 'credit_history_A34',\n",
       " 'savings_acc_A65']"
      ]
     },
     "execution_count": 139,
     "metadata": {},
     "output_type": "execute_result"
    }
   ],
   "source": [
    "significant_vars = get_significant_vars( logit_model )\n",
    "significant_vars"
   ]
  },
  {
   "cell_type": "code",
   "execution_count": 140,
   "metadata": {},
   "outputs": [
    {
     "name": "stdout",
     "output_type": "stream",
     "text": [
      "Optimization terminated successfully.\n",
      "         Current function value: 0.509905\n",
      "         Iterations 6\n"
     ]
    }
   ],
   "source": [
    "# Final Model building after removing the non sgnificant values\n",
    "final_logit = sm.Logit( y_train,\n",
    "sm.add_constant( X_train[significant_vars] ) ).fit()"
   ]
  },
  {
   "cell_type": "code",
   "execution_count": 141,
   "metadata": {},
   "outputs": [
    {
     "data": {
      "text/html": [
       "<table class=\"simpletable\">\n",
       "<caption>Logit Regression Results</caption>\n",
       "<tr>\n",
       "  <th>Dep. Variable:</th>        <td>status</td>      <th>  No. Observations:  </th>  <td>   700</td>  \n",
       "</tr>\n",
       "<tr>\n",
       "  <th>Model:</th>                 <td>Logit</td>      <th>  Df Residuals:      </th>  <td>   690</td>  \n",
       "</tr>\n",
       "<tr>\n",
       "  <th>Method:</th>                 <td>MLE</td>       <th>  Df Model:          </th>  <td>     9</td>  \n",
       "</tr>\n",
       "<tr>\n",
       "  <th>Date:</th>            <td>Tue, 14 Jun 2022</td> <th>  Pseudo R-squ.:     </th>  <td>0.1636</td>  \n",
       "</tr>\n",
       "<tr>\n",
       "  <th>Time:</th>                <td>12:02:59</td>     <th>  Log-Likelihood:    </th> <td> -356.93</td> \n",
       "</tr>\n",
       "<tr>\n",
       "  <th>converged:</th>             <td>True</td>       <th>  LL-Null:           </th> <td> -426.75</td> \n",
       "</tr>\n",
       "<tr>\n",
       "  <th>Covariance Type:</th>     <td>nonrobust</td>    <th>  LLR p-value:       </th> <td>1.223e-25</td>\n",
       "</tr>\n",
       "</table>\n",
       "<table class=\"simpletable\">\n",
       "<tr>\n",
       "           <td></td>             <th>coef</th>     <th>std err</th>      <th>z</th>      <th>P>|z|</th>  <th>[0.025</th>    <th>0.975]</th>  \n",
       "</tr>\n",
       "<tr>\n",
       "  <th>const</th>              <td>   -0.4786</td> <td>    0.448</td> <td>   -1.069</td> <td> 0.285</td> <td>   -1.356</td> <td>    0.399</td>\n",
       "</tr>\n",
       "<tr>\n",
       "  <th>amount</th>             <td>    0.0002</td> <td>  3.3e-05</td> <td>    4.926</td> <td> 0.000</td> <td> 9.78e-05</td> <td>    0.000</td>\n",
       "</tr>\n",
       "<tr>\n",
       "  <th>inst_rate</th>          <td>    0.3078</td> <td>    0.091</td> <td>    3.394</td> <td> 0.001</td> <td>    0.130</td> <td>    0.486</td>\n",
       "</tr>\n",
       "<tr>\n",
       "  <th>age</th>                <td>   -0.0223</td> <td>    0.009</td> <td>   -2.511</td> <td> 0.012</td> <td>   -0.040</td> <td>   -0.005</td>\n",
       "</tr>\n",
       "<tr>\n",
       "  <th>checkin_acc_A12</th>    <td>   -0.4432</td> <td>    0.223</td> <td>   -1.984</td> <td> 0.047</td> <td>   -0.881</td> <td>   -0.005</td>\n",
       "</tr>\n",
       "<tr>\n",
       "  <th>checkin_acc_A13</th>    <td>   -1.0366</td> <td>    0.422</td> <td>   -2.456</td> <td> 0.014</td> <td>   -1.864</td> <td>   -0.209</td>\n",
       "</tr>\n",
       "<tr>\n",
       "  <th>checkin_acc_A14</th>    <td>   -1.7403</td> <td>    0.247</td> <td>   -7.056</td> <td> 0.000</td> <td>   -2.224</td> <td>   -1.257</td>\n",
       "</tr>\n",
       "<tr>\n",
       "  <th>credit_history_A33</th> <td>   -0.3888</td> <td>    0.323</td> <td>   -1.205</td> <td> 0.228</td> <td>   -1.021</td> <td>    0.244</td>\n",
       "</tr>\n",
       "<tr>\n",
       "  <th>credit_history_A34</th> <td>   -0.9517</td> <td>    0.236</td> <td>   -4.035</td> <td> 0.000</td> <td>   -1.414</td> <td>   -0.489</td>\n",
       "</tr>\n",
       "<tr>\n",
       "  <th>savings_acc_A65</th>    <td>   -0.5115</td> <td>    0.258</td> <td>   -1.979</td> <td> 0.048</td> <td>   -1.018</td> <td>   -0.005</td>\n",
       "</tr>\n",
       "</table>"
      ],
      "text/plain": [
       "<class 'statsmodels.iolib.summary.Summary'>\n",
       "\"\"\"\n",
       "                           Logit Regression Results                           \n",
       "==============================================================================\n",
       "Dep. Variable:                 status   No. Observations:                  700\n",
       "Model:                          Logit   Df Residuals:                      690\n",
       "Method:                           MLE   Df Model:                            9\n",
       "Date:                Tue, 14 Jun 2022   Pseudo R-squ.:                  0.1636\n",
       "Time:                        12:02:59   Log-Likelihood:                -356.93\n",
       "converged:                       True   LL-Null:                       -426.75\n",
       "Covariance Type:            nonrobust   LLR p-value:                 1.223e-25\n",
       "======================================================================================\n",
       "                         coef    std err          z      P>|z|      [0.025      0.975]\n",
       "--------------------------------------------------------------------------------------\n",
       "const                 -0.4786      0.448     -1.069      0.285      -1.356       0.399\n",
       "amount                 0.0002    3.3e-05      4.926      0.000    9.78e-05       0.000\n",
       "inst_rate              0.3078      0.091      3.394      0.001       0.130       0.486\n",
       "age                   -0.0223      0.009     -2.511      0.012      -0.040      -0.005\n",
       "checkin_acc_A12       -0.4432      0.223     -1.984      0.047      -0.881      -0.005\n",
       "checkin_acc_A13       -1.0366      0.422     -2.456      0.014      -1.864      -0.209\n",
       "checkin_acc_A14       -1.7403      0.247     -7.056      0.000      -2.224      -1.257\n",
       "credit_history_A33    -0.3888      0.323     -1.205      0.228      -1.021       0.244\n",
       "credit_history_A34    -0.9517      0.236     -4.035      0.000      -1.414      -0.489\n",
       "savings_acc_A65       -0.5115      0.258     -1.979      0.048      -1.018      -0.005\n",
       "======================================================================================\n",
       "\"\"\""
      ]
     },
     "execution_count": 141,
     "metadata": {},
     "output_type": "execute_result"
    }
   ],
   "source": [
    "final_logit.summary()"
   ]
  },
  {
   "cell_type": "code",
   "execution_count": null,
   "metadata": {},
   "outputs": [],
   "source": [
    "y_pred_df = pd.DataFrame( { \"actual\": y_test,\n",
    "\"predicted_prob\": logit_model.predict(sm.add_constant( X_test ) ) } )"
   ]
  },
  {
   "cell_type": "code",
   "execution_count": null,
   "metadata": {},
   "outputs": [],
   "source": [
    "y_pred_df"
   ]
  },
  {
   "cell_type": "code",
   "execution_count": null,
   "metadata": {},
   "outputs": [],
   "source": [
    "prob=y_pred_df['predicted_prob'].tolist()\n",
    "print(prob)"
   ]
  },
  {
   "cell_type": "code",
   "execution_count": null,
   "metadata": {},
   "outputs": [],
   "source": [
    "y_pred_df['predicted'] = y_pred_df.predicted_prob.map(\n",
    "                                                    lambda x: 1 if x > 0.5 else 0)\n",
    "y_pred_df.sample(10, random_state = 42)"
   ]
  },
  {
   "cell_type": "code",
   "execution_count": null,
   "metadata": {},
   "outputs": [],
   "source": [
    "y_pred_df.predicted.value_counts()"
   ]
  },
  {
   "cell_type": "code",
   "execution_count": null,
   "metadata": {},
   "outputs": [],
   "source": [
    "y_pred_df"
   ]
  },
  {
   "cell_type": "markdown",
   "metadata": {},
   "source": [
    "## Creating a Confusion matrix"
   ]
  },
  {
   "cell_type": "code",
   "execution_count": null,
   "metadata": {},
   "outputs": [],
   "source": [
    "import seaborn as sn\n",
    "%matplotlib inline\n",
    "from sklearn import metrics"
   ]
  },
  {
   "cell_type": "code",
   "execution_count": null,
   "metadata": {},
   "outputs": [],
   "source": [
    "# Confusion metrics to know the \n",
    "def confusion(actual,predicted):\n",
    "    cm=metrics.confusion_matrix(actual,predicted,[1,0])\n",
    "    sn.heatmap(cm,annot=True,fmt='.2f',\n",
    "              xticklabels=[\"Bad Credit\",\"Good Credit\"],\n",
    "                yticklabels=[\"Bad Credit\",\"Good Credit\"])\n",
    "    plt.ylabel('True label')\n",
    "    plt.xlabel('Predicted label')\n",
    "    plt.show()"
   ]
  },
  {
   "cell_type": "code",
   "execution_count": 142,
   "metadata": {},
   "outputs": [
    {
     "name": "stderr",
     "output_type": "stream",
     "text": [
      "C:\\Users\\uvenkata\\anaconda3\\lib\\site-packages\\sklearn\\utils\\validation.py:68: FutureWarning: Pass labels=[1, 0] as keyword args. From version 0.25 passing these as positional arguments will result in an error\n",
      "  warnings.warn(\"Pass {} as keyword args. From version 0.25 \"\n"
     ]
    },
    {
     "data": {
      "image/png": "[encoded data removed]",
      "text/plain": [
       "<Figure size 432x288 with 2 Axes>"
      ]
     },
     "metadata": {
      "needs_background": "light"
     },
     "output_type": "display_data"
    }
   ],
   "source": [
    "confusion(y_pred_df.actual,y_pred_df.predicted)"
   ]
  },
  {
   "cell_type": "code",
   "execution_count": null,
   "metadata": {},
   "outputs": [],
   "source": [
    "print( metrics.classification_report( y_pred_df.actual,\n",
    "y_pred_df.predicted ))"
   ]
  },
  {
   "cell_type": "markdown",
   "metadata": {},
   "source": [
    "# Building a decisoin tree using Entropy criteria"
   ]
  },
  {
   "cell_type": "code",
   "execution_count": null,
   "metadata": {},
   "outputs": [],
   "source": [
    "from sklearn.tree import DecisionTreeClassifier\n",
    "\n",
    "clf_tree=DecisionTreeClassifier(criterion='entropy',max_depth=3)\n",
    "clf_tree.fit(X_train,y_train)"
   ]
  },
  {
   "cell_type": "code",
   "execution_count": 146,
   "metadata": {},
   "outputs": [
    {
     "data": {
      "text/plain": [
       "0.5763972869236027"
      ]
     },
     "execution_count": 146,
     "metadata": {},
     "output_type": "execute_result"
    }
   ],
   "source": [
    "tree_predict=clf_tree.predict(X_test)\n",
    "metrics.roc_auc_score( y_test, tree_predict )\n"
   ]
  },
  {
   "cell_type": "markdown",
   "metadata": {},
   "source": [
    "# Building a XGBoost "
   ]
  },
  {
   "cell_type": "code",
   "execution_count": 137,
   "metadata": {},
   "outputs": [
    {
     "name": "stdout",
     "output_type": "stream",
     "text": [
      "Collecting xgboost\n",
      "  Using cached xgboost-1.6.1-py3-none-win_amd64.whl (125.4 MB)\n",
      "Requirement already satisfied: scipy in c:\\users\\uvenkata\\anaconda3\\lib\\site-packages (from xgboost) (1.5.0)\n",
      "Requirement already satisfied: numpy in c:\\users\\uvenkata\\anaconda3\\lib\\site-packages (from xgboost) (1.18.5)\n",
      "Installing collected packages: xgboost\n",
      "Successfully installed xgboost-1.6.1\n"
     ]
    }
   ],
   "source": [
    "! pip install xgboost"
   ]
  },
  {
   "cell_type": "code",
   "execution_count": 144,
   "metadata": {},
   "outputs": [
    {
     "name": "stdout",
     "output_type": "stream",
     "text": [
      "XGBRegressor(base_score=0.5, booster='gbtree', callbacks=None,\n",
      "             colsample_bylevel=1, colsample_bynode=1, colsample_bytree=1,\n",
      "             early_stopping_rounds=None, enable_categorical=False,\n",
      "             eval_metric=None, gamma=0, gpu_id=-1, grow_policy='depthwise',\n",
      "             importance_type=None, interaction_constraints='',\n",
      "             learning_rate=0.300000012, max_bin=256, max_cat_to_onehot=4,\n",
      "             max_delta_step=0, max_depth=6, max_leaves=0, min_child_weight=1,\n",
      "             missing=nan, monotone_constraints='()', n_estimators=100, n_jobs=0,\n",
      "             num_parallel_tree=1, predictor='auto', random_state=0, reg_alpha=0,\n",
      "             reg_lambda=1, ...)\n"
     ]
    }
   ],
   "source": [
    "import xgboost as xgb\n",
    "\n",
    "model = xgb.XGBRegressor()\n",
    "model.fit(X_train, y_train)\n",
    "print(model)"
   ]
  }
 ],
 "metadata": {
  "kernelspec": {
   "display_name": "Python 3",
   "language": "python",
   "name": "python3"
  },
  "language_info": {
   "codemirror_mode": {
    "name": "ipython",
    "version": 3
   },
   "file_extension": ".py",
   "mimetype": "text/x-python",
   "name": "python",
   "nbconvert_exporter": "python",
   "pygments_lexer": "ipython3",
   "version": "3.8.3"
  }
 },
 "nbformat": 4,
 "nbformat_minor": 4
}
