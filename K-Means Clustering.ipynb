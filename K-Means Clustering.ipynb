{
 "cells": [
  {
   "cell_type": "code",
   "execution_count": 1,
   "metadata": {},
   "outputs": [],
   "source": [
    "# import libraries\n",
    "import numpy as np\n",
    "import matplotlib.pyplot as plt\n",
    "from sklearn.datasets import make_blobs"
   ]
  },
  {
   "cell_type": "code",
   "execution_count": 2,
   "metadata": {},
   "outputs": [],
   "source": [
    "dataset=make_blobs(n_samples=10,centers=2, n_features=2,cluster_std=1.6\n",
    "                  ,random_state=50)"
   ]
  },
  {
   "cell_type": "code",
   "execution_count": 4,
   "metadata": {},
   "outputs": [
    {
     "name": "stdout",
     "output_type": "stream",
     "text": [
      "(array([[-6.48656323,  0.48485146],\n",
      "       [-1.35671783, -3.72590953],\n",
      "       [ 1.00681205, -5.97364221],\n",
      "       [-5.52085089, -1.8364165 ],\n",
      "       [-4.69233551, -0.88494518],\n",
      "       [-2.15963524, -7.56230415],\n",
      "       [ 0.41199903, -0.49296907],\n",
      "       [ 0.09417313, -4.05882797],\n",
      "       [-5.55009665, -2.3305459 ],\n",
      "       [ 2.15114671, -6.20110934]]), array([1, 0, 0, 1, 1, 0, 1, 0, 1, 0]))\n"
     ]
    }
   ],
   "source": [
    "print(dataset)"
   ]
  },
  {
   "cell_type": "code",
   "execution_count": 5,
   "metadata": {},
   "outputs": [],
   "source": [
    "# only consider the dataset \n",
    "points=dataset[0]"
   ]
  },
  {
   "cell_type": "code",
   "execution_count": 6,
   "metadata": {},
   "outputs": [
    {
     "name": "stdout",
     "output_type": "stream",
     "text": [
      "[[-6.48656323  0.48485146]\n",
      " [-1.35671783 -3.72590953]\n",
      " [ 1.00681205 -5.97364221]\n",
      " [-5.52085089 -1.8364165 ]\n",
      " [-4.69233551 -0.88494518]\n",
      " [-2.15963524 -7.56230415]\n",
      " [ 0.41199903 -0.49296907]\n",
      " [ 0.09417313 -4.05882797]\n",
      " [-5.55009665 -2.3305459 ]\n",
      " [ 2.15114671 -6.20110934]]\n"
     ]
    }
   ],
   "source": [
    "print(points)"
   ]
  },
  {
   "cell_type": "code",
   "execution_count": 7,
   "metadata": {},
   "outputs": [],
   "source": [
    "# import kmeans cluster library \n",
    "from sklearn.cluster import KMeans\n"
   ]
  },
  {
   "cell_type": "code",
   "execution_count": 8,
   "metadata": {},
   "outputs": [],
   "source": [
    "# create a k means objects\n",
    "kmeans=KMeans(n_clusters=2)"
   ]
  },
  {
   "cell_type": "code",
   "execution_count": 15,
   "metadata": {},
   "outputs": [
    {
     "name": "stdout",
     "output_type": "stream",
     "text": [
      "KMeans(n_clusters=2)\n"
     ]
    }
   ],
   "source": [
    "# fit the kmeans objects to data set\n",
    "kmeans.fit(points)\n"
   ]
  },
  {
   "cell_type": "code",
   "execution_count": 13,
   "metadata": {},
   "outputs": [
    {
     "data": {
      "text/plain": [
       "<matplotlib.collections.PathCollection at 0x20310ed5640>"
      ]
     },
     "execution_count": 13,
     "metadata": {},
     "output_type": "execute_result"
    },
    {
     "data": {
      "image/png": "[encoded data removed]",
      "text/plain": [
       "<Figure size 432x288 with 1 Axes>"
      ]
     },
     "metadata": {
      "needs_background": "light"
     },
     "output_type": "display_data"
    }
   ],
   "source": [
    "plt.scatter(dataset[0][:,0],dataset[0][:,1])"
   ]
  },
  {
   "cell_type": "code",
   "execution_count": 14,
   "metadata": {},
   "outputs": [
    {
     "name": "stdout",
     "output_type": "stream",
     "text": [
      "[[ 0.02462964 -4.66912704]\n",
      " [-5.56246157 -1.14176403]]\n"
     ]
    }
   ],
   "source": [
    "# print the clusters or all data points\n",
    "clusters=kmeans.cluster_centers_\n",
    "print(clusters)"
   ]
  },
  {
   "cell_type": "code",
   "execution_count": 16,
   "metadata": {},
   "outputs": [],
   "source": [
    "y_km=kmeans.predict(points)"
   ]
  },
  {
   "cell_type": "code",
   "execution_count": 17,
   "metadata": {},
   "outputs": [
    {
     "data": {
      "text/plain": [
       "array([1, 0, 0, 1, 1, 0, 0, 0, 1, 0])"
      ]
     },
     "execution_count": 17,
     "metadata": {},
     "output_type": "execute_result"
    }
   ],
   "source": [
    "#each data point is assigned in form of matrix\n",
    "y_km\n"
   ]
  },
  {
   "cell_type": "code",
   "execution_count": 18,
   "metadata": {},
   "outputs": [
    {
     "data": {
      "text/plain": [
       "array([[-6.48656323,  0.48485146],\n",
       "       [-1.35671783, -3.72590953],\n",
       "       [ 1.00681205, -5.97364221],\n",
       "       [-5.52085089, -1.8364165 ],\n",
       "       [-4.69233551, -0.88494518],\n",
       "       [-2.15963524, -7.56230415],\n",
       "       [ 0.41199903, -0.49296907],\n",
       "       [ 0.09417313, -4.05882797],\n",
       "       [-5.55009665, -2.3305459 ],\n",
       "       [ 2.15114671, -6.20110934]])"
      ]
     },
     "execution_count": 18,
     "metadata": {},
     "output_type": "execute_result"
    }
   ],
   "source": [
    "points"
   ]
  },
  {
   "cell_type": "code",
   "execution_count": 31,
   "metadata": {},
   "outputs": [
    {
     "data": {
      "text/plain": [
       "<matplotlib.collections.PathCollection at 0x20313930970>"
      ]
     },
     "execution_count": 31,
     "metadata": {},
     "output_type": "execute_result"
    },
    {
     "data": {
      "image/png": "[encoded data removed]",
      "text/plain": [
       "<Figure size 432x288 with 1 Axes>"
      ]
     },
     "metadata": {
      "needs_background": "light"
     },
     "output_type": "display_data"
    }
   ],
   "source": [
    "plt.scatter(points[y_km==0,0],points[y_km==0,1],s=50,color='red')\n",
    "plt.scatter(points[y_km==1,0],points[y_km==1,1],s=50,color='blue')\n",
    "\n",
    "plt.scatter(clusters[0][0],clusters[0][1],marker='*',s=500,color='black')\n",
    "plt.scatter(clusters[0][1],clusters[1][1],marker='*',s=500,color='black')"
   ]
  },
  {
   "cell_type": "code",
   "execution_count": null,
   "metadata": {},
   "outputs": [],
   "source": []
  }
 ],
 "metadata": {
  "kernelspec": {
   "display_name": "Python 3",
   "language": "python",
   "name": "python3"
  },
  "language_info": {
   "codemirror_mode": {
    "name": "ipython",
    "version": 3
   },
   "file_extension": ".py",
   "mimetype": "text/x-python",
   "name": "python",
   "nbconvert_exporter": "python",
   "pygments_lexer": "ipython3",
   "version": "3.8.3"
  }
 },
 "nbformat": 4,
 "nbformat_minor": 4
}
