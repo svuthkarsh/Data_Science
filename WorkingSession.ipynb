{
 "cells": [
  {
   "cell_type": "markdown",
   "metadata": {},
   "source": [
    "# Wroking Session\n"
   ]
  },
  {
   "cell_type": "code",
   "execution_count": 10,
   "metadata": {},
   "outputs": [],
   "source": [
    "import pandas as pd\n",
    "import numpy as np\n",
    "from numpy.random import randn"
   ]
  },
  {
   "cell_type": "code",
   "execution_count": 8,
   "metadata": {},
   "outputs": [],
   "source": [
    "df=pd.Series([1,2,3,4,\"man\",\"women\"])"
   ]
  },
  {
   "cell_type": "code",
   "execution_count": 9,
   "metadata": {},
   "outputs": [
    {
     "name": "stdout",
     "output_type": "stream",
     "text": [
      "0        1\n",
      "1        2\n",
      "2        3\n",
      "3        4\n",
      "4      man\n",
      "5    women\n",
      "dtype: object\n"
     ]
    }
   ],
   "source": [
    "print(df)"
   ]
  },
  {
   "cell_type": "code",
   "execution_count": 14,
   "metadata": {},
   "outputs": [],
   "source": [
    "df=pd.DataFrame(randn(8,5),index=list(\"ABCDEFGH\"),columns=['Score1','Score2','Score3','Score4','Score5'])"
   ]
  },
  {
   "cell_type": "code",
   "execution_count": 15,
   "metadata": {},
   "outputs": [
    {
     "data": {
      "text/html": [
       "<div>\n",
       "<style scoped>\n",
       "    .dataframe tbody tr th:only-of-type {\n",
       "        vertical-align: middle;\n",
       "    }\n",
       "\n",
       "    .dataframe tbody tr th {\n",
       "        vertical-align: top;\n",
       "    }\n",
       "\n",
       "    .dataframe thead th {\n",
       "        text-align: right;\n",
       "    }\n",
       "</style>\n",
       "<table border=\"1\" class=\"dataframe\">\n",
       "  <thead>\n",
       "    <tr style=\"text-align: right;\">\n",
       "      <th></th>\n",
       "      <th>Score1</th>\n",
       "      <th>Score2</th>\n",
       "      <th>Score3</th>\n",
       "      <th>Score4</th>\n",
       "      <th>Score5</th>\n",
       "    </tr>\n",
       "  </thead>\n",
       "  <tbody>\n",
       "    <tr>\n",
       "      <th>A</th>\n",
       "      <td>-0.508996</td>\n",
       "      <td>1.931327</td>\n",
       "      <td>-1.777036</td>\n",
       "      <td>0.250706</td>\n",
       "      <td>2.062294</td>\n",
       "    </tr>\n",
       "    <tr>\n",
       "      <th>B</th>\n",
       "      <td>1.110592</td>\n",
       "      <td>-0.009629</td>\n",
       "      <td>1.073900</td>\n",
       "      <td>-0.105784</td>\n",
       "      <td>0.529291</td>\n",
       "    </tr>\n",
       "    <tr>\n",
       "      <th>C</th>\n",
       "      <td>1.262759</td>\n",
       "      <td>-0.019416</td>\n",
       "      <td>-0.143990</td>\n",
       "      <td>-1.403154</td>\n",
       "      <td>1.255394</td>\n",
       "    </tr>\n",
       "    <tr>\n",
       "      <th>D</th>\n",
       "      <td>-0.484434</td>\n",
       "      <td>-1.359044</td>\n",
       "      <td>0.194218</td>\n",
       "      <td>-0.288573</td>\n",
       "      <td>1.464640</td>\n",
       "    </tr>\n",
       "    <tr>\n",
       "      <th>E</th>\n",
       "      <td>0.044160</td>\n",
       "      <td>-0.714951</td>\n",
       "      <td>-0.799536</td>\n",
       "      <td>-1.378870</td>\n",
       "      <td>0.954425</td>\n",
       "    </tr>\n",
       "    <tr>\n",
       "      <th>F</th>\n",
       "      <td>0.070754</td>\n",
       "      <td>0.649472</td>\n",
       "      <td>-0.242962</td>\n",
       "      <td>0.331902</td>\n",
       "      <td>0.826200</td>\n",
       "    </tr>\n",
       "    <tr>\n",
       "      <th>G</th>\n",
       "      <td>0.356971</td>\n",
       "      <td>-0.442203</td>\n",
       "      <td>0.518362</td>\n",
       "      <td>-0.870503</td>\n",
       "      <td>0.481485</td>\n",
       "    </tr>\n",
       "    <tr>\n",
       "      <th>H</th>\n",
       "      <td>-1.661097</td>\n",
       "      <td>-1.604106</td>\n",
       "      <td>-0.588863</td>\n",
       "      <td>0.819189</td>\n",
       "      <td>0.019159</td>\n",
       "    </tr>\n",
       "  </tbody>\n",
       "</table>\n",
       "</div>"
      ],
      "text/plain": [
       "     Score1    Score2    Score3    Score4    Score5\n",
       "A -0.508996  1.931327 -1.777036  0.250706  2.062294\n",
       "B  1.110592 -0.009629  1.073900 -0.105784  0.529291\n",
       "C  1.262759 -0.019416 -0.143990 -1.403154  1.255394\n",
       "D -0.484434 -1.359044  0.194218 -0.288573  1.464640\n",
       "E  0.044160 -0.714951 -0.799536 -1.378870  0.954425\n",
       "F  0.070754  0.649472 -0.242962  0.331902  0.826200\n",
       "G  0.356971 -0.442203  0.518362 -0.870503  0.481485\n",
       "H -1.661097 -1.604106 -0.588863  0.819189  0.019159"
      ]
     },
     "execution_count": 15,
     "metadata": {},
     "output_type": "execute_result"
    }
   ],
   "source": [
    "df"
   ]
  },
  {
   "cell_type": "code",
   "execution_count": 16,
   "metadata": {},
   "outputs": [
    {
     "data": {
      "text/plain": [
       "A   -0.508996\n",
       "B    1.110592\n",
       "C    1.262759\n",
       "D   -0.484434\n",
       "E    0.044160\n",
       "F    0.070754\n",
       "G    0.356971\n",
       "H   -1.661097\n",
       "Name: Score1, dtype: float64"
      ]
     },
     "execution_count": 16,
     "metadata": {},
     "output_type": "execute_result"
    }
   ],
   "source": [
    "df.Score1 # Method 1 to access the column data"
   ]
  },
  {
   "cell_type": "code",
   "execution_count": 17,
   "metadata": {},
   "outputs": [
    {
     "data": {
      "text/plain": [
       "A   -0.508996\n",
       "B    1.110592\n",
       "C    1.262759\n",
       "D   -0.484434\n",
       "E    0.044160\n",
       "F    0.070754\n",
       "G    0.356971\n",
       "H   -1.661097\n",
       "Name: Score1, dtype: float64"
      ]
     },
     "execution_count": 17,
     "metadata": {},
     "output_type": "execute_result"
    }
   ],
   "source": [
    "df['Score1'] ## Second method"
   ]
  },
  {
   "cell_type": "code",
   "execution_count": 24,
   "metadata": {},
   "outputs": [
    {
     "data": {
      "text/html": [
       "<div>\n",
       "<style scoped>\n",
       "    .dataframe tbody tr th:only-of-type {\n",
       "        vertical-align: middle;\n",
       "    }\n",
       "\n",
       "    .dataframe tbody tr th {\n",
       "        vertical-align: top;\n",
       "    }\n",
       "\n",
       "    .dataframe thead th {\n",
       "        text-align: right;\n",
       "    }\n",
       "</style>\n",
       "<table border=\"1\" class=\"dataframe\">\n",
       "  <thead>\n",
       "    <tr style=\"text-align: right;\">\n",
       "      <th></th>\n",
       "      <th>Score1</th>\n",
       "      <th>Score2</th>\n",
       "      <th>Score3</th>\n",
       "    </tr>\n",
       "  </thead>\n",
       "  <tbody>\n",
       "    <tr>\n",
       "      <th>A</th>\n",
       "      <td>-0.508996</td>\n",
       "      <td>1.931327</td>\n",
       "      <td>-1.777036</td>\n",
       "    </tr>\n",
       "    <tr>\n",
       "      <th>B</th>\n",
       "      <td>1.110592</td>\n",
       "      <td>-0.009629</td>\n",
       "      <td>1.073900</td>\n",
       "    </tr>\n",
       "    <tr>\n",
       "      <th>C</th>\n",
       "      <td>1.262759</td>\n",
       "      <td>-0.019416</td>\n",
       "      <td>-0.143990</td>\n",
       "    </tr>\n",
       "    <tr>\n",
       "      <th>D</th>\n",
       "      <td>-0.484434</td>\n",
       "      <td>-1.359044</td>\n",
       "      <td>0.194218</td>\n",
       "    </tr>\n",
       "    <tr>\n",
       "      <th>E</th>\n",
       "      <td>0.044160</td>\n",
       "      <td>-0.714951</td>\n",
       "      <td>-0.799536</td>\n",
       "    </tr>\n",
       "    <tr>\n",
       "      <th>F</th>\n",
       "      <td>0.070754</td>\n",
       "      <td>0.649472</td>\n",
       "      <td>-0.242962</td>\n",
       "    </tr>\n",
       "    <tr>\n",
       "      <th>G</th>\n",
       "      <td>0.356971</td>\n",
       "      <td>-0.442203</td>\n",
       "      <td>0.518362</td>\n",
       "    </tr>\n",
       "    <tr>\n",
       "      <th>H</th>\n",
       "      <td>-1.661097</td>\n",
       "      <td>-1.604106</td>\n",
       "      <td>-0.588863</td>\n",
       "    </tr>\n",
       "  </tbody>\n",
       "</table>\n",
       "</div>"
      ],
      "text/plain": [
       "     Score1    Score2    Score3\n",
       "A -0.508996  1.931327 -1.777036\n",
       "B  1.110592 -0.009629  1.073900\n",
       "C  1.262759 -0.019416 -0.143990\n",
       "D -0.484434 -1.359044  0.194218\n",
       "E  0.044160 -0.714951 -0.799536\n",
       "F  0.070754  0.649472 -0.242962\n",
       "G  0.356971 -0.442203  0.518362\n",
       "H -1.661097 -1.604106 -0.588863"
      ]
     },
     "execution_count": 24,
     "metadata": {},
     "output_type": "execute_result"
    }
   ],
   "source": [
    "df[[\"Score1\",\"Score2\",\"Score3\"]]\n",
    "  ## Accessing multiple columns"
   ]
  },
  {
   "cell_type": "code",
   "execution_count": 32,
   "metadata": {},
   "outputs": [
    {
     "data": {
      "text/plain": [
       "Score1   -0.508996\n",
       "Score2    1.931327\n",
       "Score3   -1.777036\n",
       "Score4    0.250706\n",
       "Score5    2.062294\n",
       "Name: A, dtype: float64"
      ]
     },
     "execution_count": 32,
     "metadata": {},
     "output_type": "execute_result"
    }
   ],
   "source": [
    "df.loc['A'] "
   ]
  },
  {
   "cell_type": "code",
   "execution_count": 39,
   "metadata": {},
   "outputs": [
    {
     "data": {
      "text/plain": [
       "1.0738998388066523"
      ]
     },
     "execution_count": 39,
     "metadata": {},
     "output_type": "execute_result"
    }
   ],
   "source": [
    "df.iloc[1,2] ## 1st row and 2nd Column"
   ]
  },
  {
   "cell_type": "code",
   "execution_count": null,
   "metadata": {},
   "outputs": [],
   "source": []
  }
 ],
 "metadata": {
  "kernelspec": {
   "display_name": "Python 3",
   "language": "python",
   "name": "python3"
  },
  "language_info": {
   "codemirror_mode": {
    "name": "ipython",
    "version": 3
   },
   "file_extension": ".py",
   "mimetype": "text/x-python",
   "name": "python",
   "nbconvert_exporter": "python",
   "pygments_lexer": "ipython3",
   "version": "3.8.3"
  }
 },
 "nbformat": 4,
 "nbformat_minor": 4
}
