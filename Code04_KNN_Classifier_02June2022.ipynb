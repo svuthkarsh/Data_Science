{
 "cells": [
  {
   "cell_type": "code",
   "execution_count": 3,
   "metadata": {},
   "outputs": [],
   "source": [
    "import pandas as pd\n",
    "import numpy as np\n",
    "import math\n",
    "from heapq import nsmallest\n"
   ]
  },
  {
   "cell_type": "code",
   "execution_count": 4,
   "metadata": {},
   "outputs": [],
   "source": [
    "data={'Name': ['Tom', 'nick', 'krish', 'jack','saira','sachin','rahul','pooja','laxmi','micheal'],\n",
    "        'Age': [32, 40, 16, 18,30,23,55,40,15,21],'Gender':['Male','Male','Male','Male',\"Female\",'Male','Male','Female','Female','Male'\n",
    "                    ],'Sport':[\"Football\",\"Either\",\"Cricket\",\"Cricket\",\"Neither\",\"Cricket\",\"Niether\",\"Cricket\",\"Football\",\"Football\"]}"
   ]
  },
  {
   "cell_type": "code",
   "execution_count": 5,
   "metadata": {},
   "outputs": [],
   "source": [
    "df=pd.DataFrame(data)"
   ]
  },
  {
   "cell_type": "code",
   "execution_count": 6,
   "metadata": {},
   "outputs": [],
   "source": [
    "X=df[\"Age\"].tolist()"
   ]
  },
  {
   "cell_type": "code",
   "execution_count": 21,
   "metadata": {},
   "outputs": [
    {
     "data": {
      "text/html": [
       "<div>\n",
       "<style scoped>\n",
       "    .dataframe tbody tr th:only-of-type {\n",
       "        vertical-align: middle;\n",
       "    }\n",
       "\n",
       "    .dataframe tbody tr th {\n",
       "        vertical-align: top;\n",
       "    }\n",
       "\n",
       "    .dataframe thead th {\n",
       "        text-align: right;\n",
       "    }\n",
       "</style>\n",
       "<table border=\"1\" class=\"dataframe\">\n",
       "  <thead>\n",
       "    <tr style=\"text-align: right;\">\n",
       "      <th></th>\n",
       "      <th>Name</th>\n",
       "      <th>Age</th>\n",
       "      <th>Gender</th>\n",
       "      <th>Sport</th>\n",
       "      <th>Final Distance</th>\n",
       "    </tr>\n",
       "  </thead>\n",
       "  <tbody>\n",
       "    <tr>\n",
       "      <th>0</th>\n",
       "      <td>Tom</td>\n",
       "      <td>32</td>\n",
       "      <td>1</td>\n",
       "      <td>Football</td>\n",
       "      <td>27.018512</td>\n",
       "    </tr>\n",
       "    <tr>\n",
       "      <th>1</th>\n",
       "      <td>nick</td>\n",
       "      <td>40</td>\n",
       "      <td>1</td>\n",
       "      <td>Either</td>\n",
       "      <td>35.014283</td>\n",
       "    </tr>\n",
       "    <tr>\n",
       "      <th>2</th>\n",
       "      <td>krish</td>\n",
       "      <td>16</td>\n",
       "      <td>1</td>\n",
       "      <td>Cricket</td>\n",
       "      <td>11.045361</td>\n",
       "    </tr>\n",
       "    <tr>\n",
       "      <th>3</th>\n",
       "      <td>jack</td>\n",
       "      <td>18</td>\n",
       "      <td>1</td>\n",
       "      <td>Cricket</td>\n",
       "      <td>13.038405</td>\n",
       "    </tr>\n",
       "    <tr>\n",
       "      <th>4</th>\n",
       "      <td>saira</td>\n",
       "      <td>30</td>\n",
       "      <td>0</td>\n",
       "      <td>Neither</td>\n",
       "      <td>25.000000</td>\n",
       "    </tr>\n",
       "    <tr>\n",
       "      <th>5</th>\n",
       "      <td>sachin</td>\n",
       "      <td>23</td>\n",
       "      <td>1</td>\n",
       "      <td>Cricket</td>\n",
       "      <td>18.027756</td>\n",
       "    </tr>\n",
       "    <tr>\n",
       "      <th>6</th>\n",
       "      <td>rahul</td>\n",
       "      <td>55</td>\n",
       "      <td>1</td>\n",
       "      <td>Niether</td>\n",
       "      <td>50.009999</td>\n",
       "    </tr>\n",
       "    <tr>\n",
       "      <th>7</th>\n",
       "      <td>pooja</td>\n",
       "      <td>40</td>\n",
       "      <td>0</td>\n",
       "      <td>Cricket</td>\n",
       "      <td>35.000000</td>\n",
       "    </tr>\n",
       "    <tr>\n",
       "      <th>8</th>\n",
       "      <td>laxmi</td>\n",
       "      <td>15</td>\n",
       "      <td>0</td>\n",
       "      <td>Football</td>\n",
       "      <td>10.000000</td>\n",
       "    </tr>\n",
       "    <tr>\n",
       "      <th>9</th>\n",
       "      <td>micheal</td>\n",
       "      <td>21</td>\n",
       "      <td>1</td>\n",
       "      <td>Football</td>\n",
       "      <td>16.031220</td>\n",
       "    </tr>\n",
       "  </tbody>\n",
       "</table>\n",
       "</div>"
      ],
      "text/plain": [
       "      Name  Age Gender     Sport  Final Distance\n",
       "0      Tom   32      1  Football       27.018512\n",
       "1     nick   40      1    Either       35.014283\n",
       "2    krish   16      1   Cricket       11.045361\n",
       "3     jack   18      1   Cricket       13.038405\n",
       "4    saira   30      0   Neither       25.000000\n",
       "5   sachin   23      1   Cricket       18.027756\n",
       "6    rahul   55      1   Niether       50.009999\n",
       "7    pooja   40      0   Cricket       35.000000\n",
       "8    laxmi   15      0  Football       10.000000\n",
       "9  micheal   21      1  Football       16.031220"
      ]
     },
     "execution_count": 21,
     "metadata": {},
     "output_type": "execute_result"
    }
   ],
   "source": [
    "df\n",
    "   \n",
    "    \n",
    "     "
   ]
  },
  {
   "cell_type": "code",
   "execution_count": 8,
   "metadata": {},
   "outputs": [],
   "source": [
    "df.iloc[[0,1,2,3,5,6,9],[2]] = 1\n",
    "df.iloc[[4,7,8],[2]]=0"
   ]
  },
  {
   "cell_type": "code",
   "execution_count": 19,
   "metadata": {},
   "outputs": [
    {
     "data": {
      "text/html": [
       "<div>\n",
       "<style scoped>\n",
       "    .dataframe tbody tr th:only-of-type {\n",
       "        vertical-align: middle;\n",
       "    }\n",
       "\n",
       "    .dataframe tbody tr th {\n",
       "        vertical-align: top;\n",
       "    }\n",
       "\n",
       "    .dataframe thead th {\n",
       "        text-align: right;\n",
       "    }\n",
       "</style>\n",
       "<table border=\"1\" class=\"dataframe\">\n",
       "  <thead>\n",
       "    <tr style=\"text-align: right;\">\n",
       "      <th></th>\n",
       "      <th>Name</th>\n",
       "      <th>Age</th>\n",
       "      <th>Gender</th>\n",
       "      <th>Sport</th>\n",
       "      <th>Final Distance</th>\n",
       "    </tr>\n",
       "  </thead>\n",
       "  <tbody>\n",
       "    <tr>\n",
       "      <th>0</th>\n",
       "      <td>Tom</td>\n",
       "      <td>32</td>\n",
       "      <td>1</td>\n",
       "      <td>Football</td>\n",
       "      <td>27.018512</td>\n",
       "    </tr>\n",
       "    <tr>\n",
       "      <th>1</th>\n",
       "      <td>nick</td>\n",
       "      <td>40</td>\n",
       "      <td>1</td>\n",
       "      <td>Either</td>\n",
       "      <td>35.014283</td>\n",
       "    </tr>\n",
       "    <tr>\n",
       "      <th>2</th>\n",
       "      <td>krish</td>\n",
       "      <td>16</td>\n",
       "      <td>1</td>\n",
       "      <td>Cricket</td>\n",
       "      <td>11.045361</td>\n",
       "    </tr>\n",
       "    <tr>\n",
       "      <th>3</th>\n",
       "      <td>jack</td>\n",
       "      <td>18</td>\n",
       "      <td>1</td>\n",
       "      <td>Cricket</td>\n",
       "      <td>13.038405</td>\n",
       "    </tr>\n",
       "    <tr>\n",
       "      <th>4</th>\n",
       "      <td>saira</td>\n",
       "      <td>30</td>\n",
       "      <td>0</td>\n",
       "      <td>Neither</td>\n",
       "      <td>25.000000</td>\n",
       "    </tr>\n",
       "    <tr>\n",
       "      <th>5</th>\n",
       "      <td>sachin</td>\n",
       "      <td>23</td>\n",
       "      <td>1</td>\n",
       "      <td>Cricket</td>\n",
       "      <td>18.027756</td>\n",
       "    </tr>\n",
       "    <tr>\n",
       "      <th>6</th>\n",
       "      <td>rahul</td>\n",
       "      <td>55</td>\n",
       "      <td>1</td>\n",
       "      <td>Niether</td>\n",
       "      <td>50.009999</td>\n",
       "    </tr>\n",
       "    <tr>\n",
       "      <th>7</th>\n",
       "      <td>pooja</td>\n",
       "      <td>40</td>\n",
       "      <td>0</td>\n",
       "      <td>Cricket</td>\n",
       "      <td>35.000000</td>\n",
       "    </tr>\n",
       "    <tr>\n",
       "      <th>8</th>\n",
       "      <td>laxmi</td>\n",
       "      <td>15</td>\n",
       "      <td>0</td>\n",
       "      <td>Football</td>\n",
       "      <td>10.000000</td>\n",
       "    </tr>\n",
       "    <tr>\n",
       "      <th>9</th>\n",
       "      <td>micheal</td>\n",
       "      <td>21</td>\n",
       "      <td>1</td>\n",
       "      <td>Football</td>\n",
       "      <td>16.031220</td>\n",
       "    </tr>\n",
       "  </tbody>\n",
       "</table>\n",
       "</div>"
      ],
      "text/plain": [
       "      Name  Age Gender     Sport  Final Distance\n",
       "0      Tom   32      1  Football       27.018512\n",
       "1     nick   40      1    Either       35.014283\n",
       "2    krish   16      1   Cricket       11.045361\n",
       "3     jack   18      1   Cricket       13.038405\n",
       "4    saira   30      0   Neither       25.000000\n",
       "5   sachin   23      1   Cricket       18.027756\n",
       "6    rahul   55      1   Niether       50.009999\n",
       "7    pooja   40      0   Cricket       35.000000\n",
       "8    laxmi   15      0  Football       10.000000\n",
       "9  micheal   21      1  Football       16.031220"
      ]
     },
     "execution_count": 19,
     "metadata": {},
     "output_type": "execute_result"
    }
   ],
   "source": [
    "df"
   ]
  },
  {
   "cell_type": "code",
   "execution_count": null,
   "metadata": {},
   "outputs": [],
   "source": []
  },
  {
   "cell_type": "code",
   "execution_count": 10,
   "metadata": {},
   "outputs": [
    {
     "name": "stdout",
     "output_type": "stream",
     "text": [
      "0    1\n",
      "1    1\n",
      "2    1\n",
      "3    1\n",
      "4    0\n",
      "5    1\n",
      "6    1\n",
      "7    0\n",
      "8    0\n",
      "9    1\n",
      "Name: Gender, dtype: object\n"
     ]
    }
   ],
   "source": [
    "## Very important code to replace the category values in present in the coulmn\n",
    "for inx,row in df.iterrows():\n",
    "    if row[\"Gender\"]==\"Male\":\n",
    "        df[\"Gender\"].iloc[inx]=1\n",
    "    elif row[\"Gender\"]==\"Female\":\n",
    "        df[\"Gender\"].iloc[inx]=0\n",
    "print(df[\"Gender\"])\n",
    "\n"
   ]
  },
  {
   "cell_type": "code",
   "execution_count": null,
   "metadata": {},
   "outputs": [],
   "source": []
  },
  {
   "cell_type": "code",
   "execution_count": 11,
   "metadata": {},
   "outputs": [],
   "source": [
    "Y=df[\"Gender\"].tolist()"
   ]
  },
  {
   "cell_type": "code",
   "execution_count": 12,
   "metadata": {},
   "outputs": [
    {
     "name": "stdout",
     "output_type": "stream",
     "text": [
      "0 32\n",
      "27.018512172212592\n",
      "1 40\n",
      "35.014282800023196\n",
      "2 16\n",
      "11.045361017187261\n",
      "3 18\n",
      "13.038404810405298\n",
      "4 30\n",
      "25.0\n",
      "5 23\n",
      "18.027756377319946\n",
      "6 55\n",
      "50.00999900019995\n",
      "7 40\n",
      "35.0\n",
      "8 15\n",
      "10.0\n",
      "9 21\n",
      "16.0312195418814\n"
     ]
    }
   ],
   "source": [
    "## To caluclate the distance between refernce data point and other data points (ref dp is (5,0))\n",
    "Fd=[]\n",
    "for inx in range(len(X)): \n",
    "    print(inx,X[inx])\n",
    "    dist=(5-X[inx])**2+(0-Y[inx])**2\n",
    "    finaldist=math.sqrt(dist)\n",
    "    Fd.append(finaldist)\n",
    "    \n",
    "    print(finaldist)\n",
    "df[\"Final Distance\"]=Fd"
   ]
  },
  {
   "cell_type": "code",
   "execution_count": 13,
   "metadata": {},
   "outputs": [
    {
     "data": {
      "text/html": [
       "<div>\n",
       "<style scoped>\n",
       "    .dataframe tbody tr th:only-of-type {\n",
       "        vertical-align: middle;\n",
       "    }\n",
       "\n",
       "    .dataframe tbody tr th {\n",
       "        vertical-align: top;\n",
       "    }\n",
       "\n",
       "    .dataframe thead th {\n",
       "        text-align: right;\n",
       "    }\n",
       "</style>\n",
       "<table border=\"1\" class=\"dataframe\">\n",
       "  <thead>\n",
       "    <tr style=\"text-align: right;\">\n",
       "      <th></th>\n",
       "      <th>Name</th>\n",
       "      <th>Age</th>\n",
       "      <th>Gender</th>\n",
       "      <th>Sport</th>\n",
       "      <th>Final Distance</th>\n",
       "    </tr>\n",
       "  </thead>\n",
       "  <tbody>\n",
       "    <tr>\n",
       "      <th>0</th>\n",
       "      <td>Tom</td>\n",
       "      <td>32</td>\n",
       "      <td>1</td>\n",
       "      <td>Football</td>\n",
       "      <td>27.018512</td>\n",
       "    </tr>\n",
       "    <tr>\n",
       "      <th>1</th>\n",
       "      <td>nick</td>\n",
       "      <td>40</td>\n",
       "      <td>1</td>\n",
       "      <td>Either</td>\n",
       "      <td>35.014283</td>\n",
       "    </tr>\n",
       "    <tr>\n",
       "      <th>2</th>\n",
       "      <td>krish</td>\n",
       "      <td>16</td>\n",
       "      <td>1</td>\n",
       "      <td>Cricket</td>\n",
       "      <td>11.045361</td>\n",
       "    </tr>\n",
       "    <tr>\n",
       "      <th>3</th>\n",
       "      <td>jack</td>\n",
       "      <td>18</td>\n",
       "      <td>1</td>\n",
       "      <td>Cricket</td>\n",
       "      <td>13.038405</td>\n",
       "    </tr>\n",
       "    <tr>\n",
       "      <th>4</th>\n",
       "      <td>saira</td>\n",
       "      <td>30</td>\n",
       "      <td>0</td>\n",
       "      <td>Neither</td>\n",
       "      <td>25.000000</td>\n",
       "    </tr>\n",
       "    <tr>\n",
       "      <th>5</th>\n",
       "      <td>sachin</td>\n",
       "      <td>23</td>\n",
       "      <td>1</td>\n",
       "      <td>Cricket</td>\n",
       "      <td>18.027756</td>\n",
       "    </tr>\n",
       "    <tr>\n",
       "      <th>6</th>\n",
       "      <td>rahul</td>\n",
       "      <td>55</td>\n",
       "      <td>1</td>\n",
       "      <td>Niether</td>\n",
       "      <td>50.009999</td>\n",
       "    </tr>\n",
       "    <tr>\n",
       "      <th>7</th>\n",
       "      <td>pooja</td>\n",
       "      <td>40</td>\n",
       "      <td>0</td>\n",
       "      <td>Cricket</td>\n",
       "      <td>35.000000</td>\n",
       "    </tr>\n",
       "    <tr>\n",
       "      <th>8</th>\n",
       "      <td>laxmi</td>\n",
       "      <td>15</td>\n",
       "      <td>0</td>\n",
       "      <td>Football</td>\n",
       "      <td>10.000000</td>\n",
       "    </tr>\n",
       "    <tr>\n",
       "      <th>9</th>\n",
       "      <td>micheal</td>\n",
       "      <td>21</td>\n",
       "      <td>1</td>\n",
       "      <td>Football</td>\n",
       "      <td>16.031220</td>\n",
       "    </tr>\n",
       "  </tbody>\n",
       "</table>\n",
       "</div>"
      ],
      "text/plain": [
       "      Name  Age Gender     Sport  Final Distance\n",
       "0      Tom   32      1  Football       27.018512\n",
       "1     nick   40      1    Either       35.014283\n",
       "2    krish   16      1   Cricket       11.045361\n",
       "3     jack   18      1   Cricket       13.038405\n",
       "4    saira   30      0   Neither       25.000000\n",
       "5   sachin   23      1   Cricket       18.027756\n",
       "6    rahul   55      1   Niether       50.009999\n",
       "7    pooja   40      0   Cricket       35.000000\n",
       "8    laxmi   15      0  Football       10.000000\n",
       "9  micheal   21      1  Football       16.031220"
      ]
     },
     "execution_count": 13,
     "metadata": {},
     "output_type": "execute_result"
    }
   ],
   "source": [
    "df"
   ]
  },
  {
   "cell_type": "code",
   "execution_count": 14,
   "metadata": {},
   "outputs": [],
   "source": [
    "# Now look for 3 closed records to the reference data point \n",
    " # laxmi, #Krish #jack, angelina is into cricket"
   ]
  },
  {
   "cell_type": "code",
   "execution_count": 15,
   "metadata": {},
   "outputs": [
    {
     "data": {
      "text/plain": [
       "0    27.018512\n",
       "1    35.014283\n",
       "2    11.045361\n",
       "3    13.038405\n",
       "4    25.000000\n",
       "5    18.027756\n",
       "6    50.009999\n",
       "7    35.000000\n",
       "8    10.000000\n",
       "9    16.031220\n",
       "Name: Final Distance, dtype: float64"
      ]
     },
     "execution_count": 15,
     "metadata": {},
     "output_type": "execute_result"
    }
   ],
   "source": [
    "df['Final Distance']"
   ]
  },
  {
   "cell_type": "code",
   "execution_count": 16,
   "metadata": {},
   "outputs": [],
   "source": [
    "comp=df['Final Distance'].tolist()"
   ]
  },
  {
   "cell_type": "code",
   "execution_count": 17,
   "metadata": {},
   "outputs": [
    {
     "name": "stdout",
     "output_type": "stream",
     "text": [
      "[27.018512172212592, 35.014282800023196, 11.045361017187261, 13.038404810405298, 25.0, 18.027756377319946, 50.00999900019995, 35.0, 10.0, 16.0312195418814]\n"
     ]
    }
   ],
   "source": [
    "print(comp)"
   ]
  },
  {
   "cell_type": "code",
   "execution_count": 18,
   "metadata": {},
   "outputs": [
    {
     "name": "stdout",
     "output_type": "stream",
     "text": [
      "[[10.0, 11.045361017187261, 13.038404810405298]]\n"
     ]
    }
   ],
   "source": [
    "knearest_neighbors=[]\n",
    "knearest_neighbors.append(nsmallest(3,comp))\n",
    "print(knearest_neighbors)"
   ]
  },
  {
   "cell_type": "code",
   "execution_count": null,
   "metadata": {},
   "outputs": [],
   "source": []
  }
 ],
 "metadata": {
  "kernelspec": {
   "display_name": "Python 3",
   "language": "python",
   "name": "python3"
  },
  "language_info": {
   "codemirror_mode": {
    "name": "ipython",
    "version": 3
   },
   "file_extension": ".py",
   "mimetype": "text/x-python",
   "name": "python",
   "nbconvert_exporter": "python",
   "pygments_lexer": "ipython3",
   "version": "3.8.3"
  }
 },
 "nbformat": 4,
 "nbformat_minor": 4
}
